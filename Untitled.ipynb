{
 "cells": [
  {
   "cell_type": "code",
   "execution_count": 54,
   "metadata": {
    "collapsed": true
   },
   "outputs": [],
   "source": [
    "import work2\n"
   ]
  },
  {
   "cell_type": "code",
   "execution_count": 55,
   "metadata": {
    "collapsed": false
   },
   "outputs": [
    {
     "ename": "NameError",
     "evalue": "name 'main' is not defined",
     "output_type": "error",
     "traceback": [
      "\u001b[1;31m---------------------------------------------------------------------------\u001b[0m",
      "\u001b[1;31mNameError\u001b[0m                                 Traceback (most recent call last)",
      "\u001b[1;32m<ipython-input-55-58ca95c5b364>\u001b[0m in \u001b[0;36m<module>\u001b[1;34m()\u001b[0m\n\u001b[1;32m----> 1\u001b[1;33m \u001b[0mmain\u001b[0m\u001b[1;33m(\u001b[0m\u001b[1;33m)\u001b[0m\u001b[1;33m\u001b[0m\u001b[0m\n\u001b[0m",
      "\u001b[1;31mNameError\u001b[0m: name 'main' is not defined"
     ]
    }
   ],
   "source": [
    "main()"
   ]
  },
  {
   "cell_type": "code",
   "execution_count": 56,
   "metadata": {
    "collapsed": false
   },
   "outputs": [],
   "source": [
    "text = \"\"\"I am fealing pain in the stomac for three-weeks. Sometimes\n",
    "    I feel dizzy, weak and can't breathing_properly. I can't have rheumatic fever studying excessively, It pains barely.\"\"\"\n",
    "    \n",
    "ontotext =  Ontotext()\n",
    "t =  ontotext.tag(text)\n"
   ]
  },
  {
   "cell_type": "code",
   "execution_count": 57,
   "metadata": {
    "collapsed": false
   },
   "outputs": [],
   "source": [
    "text = \"\"\"I am fealing pain in the stomac for three-weeks. Sometimes\n",
    "    I feel dizzy, weak and can't breathing_properly. I can't have rheumatic fever studying excessively, It pains barely.\"\"\"\n",
    "    \n",
    "ontotext =  Ontotext()\n",
    "t =  ontotext.tag(text)\n"
   ]
  },
  {
   "cell_type": "code",
   "execution_count": 58,
   "metadata": {
    "collapsed": true
   },
   "outputs": [],
   "source": [
    "from work2 import Ontotext"
   ]
  },
  {
   "cell_type": "code",
   "execution_count": 52,
   "metadata": {
    "collapsed": false
   },
   "outputs": [
    {
     "data": {
      "text/plain": [
       "[(u'and', u'Idea_or_Concept'),\n",
       " (u'feel', u'Mental_Process'),\n",
       " (u'for', u'Qualitative_Concept'),\n",
       " (u'weak', u'Qualitative_Concept'),\n",
       " (u'have', u'Qualitative_Concept'),\n",
       " (u'excessively', u'Qualitative_Concept'),\n",
       " (u'pain', u'Sign_or_Symptom'),\n",
       " (u'dizzy', u'Sign_or_Symptom'),\n",
       " (u'pains', u'Sign_or_Symptom'),\n",
       " (u'Sometimes', u'Temporal_Concept'),\n",
       " (u'studying', u'Research_Activity'),\n",
       " (u'breathing', u'Physiologic_Function'),\n",
       " (u'rheumatic fever', u'Disease_or_Syndrome')]"
      ]
     },
     "execution_count": 52,
     "metadata": {},
     "output_type": "execute_result"
    }
   ],
   "source": [
    "t"
   ]
  },
  {
   "cell_type": "code",
   "execution_count": 9,
   "metadata": {
    "collapsed": false
   },
   "outputs": [
    {
     "ename": "NameError",
     "evalue": "name 'kj' is not defined",
     "output_type": "error",
     "traceback": [
      "\u001b[1;31m---------------------------------------------------------------------------\u001b[0m",
      "\u001b[1;31mNameError\u001b[0m                                 Traceback (most recent call last)",
      "\u001b[1;32m<ipython-input-9-372d9493fb65>\u001b[0m in \u001b[0;36m<module>\u001b[1;34m()\u001b[0m\n\u001b[1;32m----> 1\u001b[1;33m \u001b[0mkj\u001b[0m\u001b[1;33m\u001b[0m\u001b[0m\n\u001b[0m",
      "\u001b[1;31mNameError\u001b[0m: name 'kj' is not defined"
     ]
    }
   ],
   "source": [
    "kj"
   ]
  },
  {
   "cell_type": "code",
   "execution_count": 10,
   "metadata": {
    "collapsed": false
   },
   "outputs": [
    {
     "data": {
      "text/plain": [
       "[(u'and', u'Idea_or_Concept'),\n",
       " (u'feel', u'Mental_Process'),\n",
       " (u'for', u'Qualitative_Concept'),\n",
       " (u'weak', u'Qualitative_Concept'),\n",
       " (u'have', u'Qualitative_Concept'),\n",
       " (u'excessively', u'Qualitative_Concept'),\n",
       " (u'pain', u'Sign_or_Symptom'),\n",
       " (u'dizzy', u'Sign_or_Symptom'),\n",
       " (u'pains', u'Sign_or_Symptom'),\n",
       " (u'Sometimes', u'Temporal_Concept'),\n",
       " (u'studying', u'Research_Activity'),\n",
       " (u'breathing', u'Physiologic_Function'),\n",
       " (u'rheumatic fever', u'Disease_or_Syndrome')]"
      ]
     },
     "execution_count": 10,
     "metadata": {},
     "output_type": "execute_result"
    }
   ],
   "source": [
    "t"
   ]
  },
  {
   "cell_type": "code",
   "execution_count": 11,
   "metadata": {
    "collapsed": true
   },
   "outputs": [],
   "source": [
    "from work1 import Preprocess"
   ]
  },
  {
   "cell_type": "code",
   "execution_count": 12,
   "metadata": {
    "collapsed": false
   },
   "outputs": [
    {
     "name": "stdout",
     "output_type": "stream",
     "text": [
      "['I am fealing pain in the stomac for three weeks.', 'Sometimes\\n    I feel dizzy, weak and cannot breathing properly.', 'I cannot have rheumatic fever studying excessively, It pains barely.']\n",
      "\n",
      "\n",
      "\n",
      "['I am feeling pain in the stomach for three weeks.', 'Sometimes\\n    I feel dizzy, weak and cannot breathing properly.', 'I cannot have rheumatic fever studying excessively, It pains barely.']\n",
      "\n",
      "\n",
      "\n",
      "[['I', 'am', 'feeling', 'pain', 'in', 'the', 'stomach', 'for', 'three', 'weeks', '.'], ['Sometimes', 'I', 'feel', 'dizzy', ',', 'weak', 'and', 'can', 'not', 'breathing', 'properly', '.'], ['I', 'can', 'not', 'have', 'rheumatic', 'fever', 'studying', 'excessively', ',', 'It', 'pains', 'barely', '.']]\n",
      "\n",
      "\n",
      "\n",
      "[['I', u'be', u'feel', 'pain', 'in', 'the', 'stomach', 'for', 'three', 'weeks', '.'], ['Sometimes', 'I', 'feel', 'dizzy', ',', 'weak', 'and', 'can', 'not', u'breathe', 'properly', '.'], ['I', 'can', 'not', 'have', 'rheumatic', 'fever', u'study', 'excessively', ',', 'It', u'pain', 'barely', '.']]\n",
      "\n",
      "\n",
      "\n",
      "[[('I', 'PRP'), (u'be', 'VB'), (u'feel', 'VBN'), ('pain', 'RB'), ('in', 'IN'), ('the', 'DT'), ('stomach', 'NN'), ('for', 'IN'), ('three', 'CD'), ('weeks', 'NNS'), ('.', '.')], [('Sometimes', 'RB'), ('I', 'PRP'), ('feel', 'VBP'), ('dizzy', 'RB'), (',', ','), ('weak', 'JJ'), ('and', 'CC'), ('can', 'MD'), ('not', 'RB'), (u'breathe', 'VB'), ('proper', 'RB'), ('.', '.')], [('I', 'PRP'), ('can', 'MD'), ('not', 'RB'), ('have', 'VB'), ('rheumatic', 'JJ'), ('fever', 'NN'), (u'study', 'NN'), ('excessive', 'RB'), (',', ','), ('It', 'PRP'), (u'pain', 'VBP'), ('bare', 'RB'), ('.', '.')]]\n"
     ]
    }
   ],
   "source": [
    "preprocess = Preprocess()\n",
    "processed = preprocess.process(text)"
   ]
  },
  {
   "cell_type": "code",
   "execution_count": 13,
   "metadata": {
    "collapsed": false
   },
   "outputs": [
    {
     "data": {
      "text/plain": [
       "[[('I', 'PRP'),\n",
       "  (u'be', 'VB'),\n",
       "  (u'feel', 'VBN'),\n",
       "  ('pain', 'RB'),\n",
       "  ('in', 'IN'),\n",
       "  ('the', 'DT'),\n",
       "  ('stomach', 'NN'),\n",
       "  ('for', 'IN'),\n",
       "  ('three', 'CD'),\n",
       "  ('weeks', 'NNS'),\n",
       "  ('.', '.')],\n",
       " [('Sometimes', 'RB'),\n",
       "  ('I', 'PRP'),\n",
       "  ('feel', 'VBP'),\n",
       "  ('dizzy', 'RB'),\n",
       "  (',', ','),\n",
       "  ('weak', 'JJ'),\n",
       "  ('and', 'CC'),\n",
       "  ('can', 'MD'),\n",
       "  ('not', 'RB'),\n",
       "  (u'breathe', 'VB'),\n",
       "  ('proper', 'RB'),\n",
       "  ('.', '.')],\n",
       " [('I', 'PRP'),\n",
       "  ('can', 'MD'),\n",
       "  ('not', 'RB'),\n",
       "  ('have', 'VB'),\n",
       "  ('rheumatic', 'JJ'),\n",
       "  ('fever', 'NN'),\n",
       "  (u'study', 'NN'),\n",
       "  ('excessive', 'RB'),\n",
       "  (',', ','),\n",
       "  ('It', 'PRP'),\n",
       "  (u'pain', 'VBP'),\n",
       "  ('bare', 'RB'),\n",
       "  ('.', '.')]]"
      ]
     },
     "execution_count": 13,
     "metadata": {},
     "output_type": "execute_result"
    }
   ],
   "source": [
    "processed"
   ]
  },
  {
   "cell_type": "code",
   "execution_count": 14,
   "metadata": {
    "collapsed": false
   },
   "outputs": [
    {
     "data": {
      "text/plain": [
       "[[('I', 'PRP'),\n",
       "  (u'be', 'VB'),\n",
       "  (u'feel', 'VBN'),\n",
       "  ('pain', 'RB'),\n",
       "  ('in', 'IN'),\n",
       "  ('the', 'DT'),\n",
       "  ('stomach', 'NN'),\n",
       "  ('for', 'IN'),\n",
       "  ('three', 'CD'),\n",
       "  ('weeks', 'NNS'),\n",
       "  ('.', '.')],\n",
       " [('Sometimes', 'RB'),\n",
       "  ('I', 'PRP'),\n",
       "  ('feel', 'VBP'),\n",
       "  ('dizzy', 'RB'),\n",
       "  (',', ','),\n",
       "  ('weak', 'JJ'),\n",
       "  ('and', 'CC'),\n",
       "  ('can', 'MD'),\n",
       "  ('not', 'RB'),\n",
       "  (u'breathe', 'VB'),\n",
       "  ('proper', 'RB'),\n",
       "  ('.', '.')],\n",
       " [('I', 'PRP'),\n",
       "  ('can', 'MD'),\n",
       "  ('not', 'RB'),\n",
       "  ('have', 'VB'),\n",
       "  ('rheumatic', 'JJ'),\n",
       "  ('fever', 'NN'),\n",
       "  (u'study', 'NN'),\n",
       "  ('excessive', 'RB'),\n",
       "  (',', ','),\n",
       "  ('It', 'PRP'),\n",
       "  (u'pain', 'VBP'),\n",
       "  ('bare', 'RB'),\n",
       "  ('.', '.')]]"
      ]
     },
     "execution_count": 14,
     "metadata": {},
     "output_type": "execute_result"
    }
   ],
   "source": [
    "processed\n"
   ]
  },
  {
   "cell_type": "code",
   "execution_count": 16,
   "metadata": {
    "collapsed": false
   },
   "outputs": [],
   "source": [
    "from operator import itemgetter\n",
    "f=[item for sublist in processed for item in sublist]\n",
    "k=list(set(map(itemgetter(0),f)) & set(map(itemgetter(0),t)))"
   ]
  },
  {
   "cell_type": "code",
   "execution_count": 17,
   "metadata": {
    "collapsed": false
   },
   "outputs": [
    {
     "data": {
      "text/plain": [
       "[('I', 'PRP'),\n",
       " (u'be', 'VB'),\n",
       " (u'feel', 'VBN'),\n",
       " ('pain', 'RB'),\n",
       " ('in', 'IN'),\n",
       " ('the', 'DT'),\n",
       " ('stomach', 'NN'),\n",
       " ('for', 'IN'),\n",
       " ('three', 'CD'),\n",
       " ('weeks', 'NNS'),\n",
       " ('.', '.'),\n",
       " ('Sometimes', 'RB'),\n",
       " ('I', 'PRP'),\n",
       " ('feel', 'VBP'),\n",
       " ('dizzy', 'RB'),\n",
       " (',', ','),\n",
       " ('weak', 'JJ'),\n",
       " ('and', 'CC'),\n",
       " ('can', 'MD'),\n",
       " ('not', 'RB'),\n",
       " (u'breathe', 'VB'),\n",
       " ('proper', 'RB'),\n",
       " ('.', '.'),\n",
       " ('I', 'PRP'),\n",
       " ('can', 'MD'),\n",
       " ('not', 'RB'),\n",
       " ('have', 'VB'),\n",
       " ('rheumatic', 'JJ'),\n",
       " ('fever', 'NN'),\n",
       " (u'study', 'NN'),\n",
       " ('excessive', 'RB'),\n",
       " (',', ','),\n",
       " ('It', 'PRP'),\n",
       " (u'pain', 'VBP'),\n",
       " ('bare', 'RB'),\n",
       " ('.', '.')]"
      ]
     },
     "execution_count": 17,
     "metadata": {},
     "output_type": "execute_result"
    }
   ],
   "source": [
    "f"
   ]
  },
  {
   "cell_type": "code",
   "execution_count": 18,
   "metadata": {
    "collapsed": false
   },
   "outputs": [
    {
     "data": {
      "text/plain": [
       "[u'and', u'pain', u'for', u'feel', u'Sometimes', u'weak', u'dizzy', u'have']"
      ]
     },
     "execution_count": 18,
     "metadata": {},
     "output_type": "execute_result"
    }
   ],
   "source": [
    "k"
   ]
  },
  {
   "cell_type": "code",
   "execution_count": 21,
   "metadata": {
    "collapsed": true
   },
   "outputs": [],
   "source": [
    "w = \"ab  c\""
   ]
  },
  {
   "cell_type": "code",
   "execution_count": 25,
   "metadata": {
    "collapsed": false
   },
   "outputs": [],
   "source": [
    "import re\n",
    "if ' ' in w:\n",
    "    j= re.findall(r'\\S+', w)\n",
    "    "
   ]
  },
  {
   "cell_type": "code",
   "execution_count": 26,
   "metadata": {
    "collapsed": false
   },
   "outputs": [
    {
     "data": {
      "text/plain": [
       "['ab', 'c']"
      ]
     },
     "execution_count": 26,
     "metadata": {},
     "output_type": "execute_result"
    }
   ],
   "source": [
    "j"
   ]
  },
  {
   "cell_type": "code",
   "execution_count": 27,
   "metadata": {
    "collapsed": false
   },
   "outputs": [
    {
     "data": {
      "text/plain": [
       "[(u'and', u'Idea_or_Concept'),\n",
       " (u'feel', u'Mental_Process'),\n",
       " (u'for', u'Qualitative_Concept'),\n",
       " (u'weak', u'Qualitative_Concept'),\n",
       " (u'have', u'Qualitative_Concept'),\n",
       " (u'excessively', u'Qualitative_Concept'),\n",
       " (u'pain', u'Sign_or_Symptom'),\n",
       " (u'dizzy', u'Sign_or_Symptom'),\n",
       " (u'pains', u'Sign_or_Symptom'),\n",
       " (u'Sometimes', u'Temporal_Concept'),\n",
       " (u'studying', u'Research_Activity'),\n",
       " (u'breathing', u'Physiologic_Function'),\n",
       " (u'rheumatic fever', u'Disease_or_Syndrome')]"
      ]
     },
     "execution_count": 27,
     "metadata": {},
     "output_type": "execute_result"
    }
   ],
   "source": [
    "t"
   ]
  },
  {
   "cell_type": "code",
   "execution_count": 38,
   "metadata": {
    "collapsed": false
   },
   "outputs": [
    {
     "name": "stdout",
     "output_type": "stream",
     "text": [
      "and Idea_or_Concept\n",
      "feel Mental_Process\n",
      "for Qualitative_Concept\n",
      "weak Qualitative_Concept\n",
      "have Qualitative_Concept\n",
      "excessively Qualitative_Concept\n",
      "pain Sign_or_Symptom\n",
      "dizzy Sign_or_Symptom\n",
      "pains Sign_or_Symptom\n",
      "Sometimes Temporal_Concept\n",
      "studying Research_Activity\n",
      "breathing Physiologic_Function\n",
      "rheumatic fever Disease_or_Syndrome\n",
      "[u'rheumatic', u'fever']\n",
      "ab cd ef disease\n",
      "['ab', 'cd', 'ef']\n"
     ]
    }
   ],
   "source": [
    "for word,tag in t:\n",
    "    print word,tag\n",
    "    if ' ' in word:\n",
    "        j= re.findall(r'\\S+', word)\n",
    "        print j\n",
    "\n"
   ]
  },
  {
   "cell_type": "code",
   "execution_count": 39,
   "metadata": {
    "collapsed": false
   },
   "outputs": [
    {
     "data": {
      "text/plain": [
       "3"
      ]
     },
     "execution_count": 39,
     "metadata": {},
     "output_type": "execute_result"
    }
   ],
   "source": [
    "len(j)"
   ]
  },
  {
   "cell_type": "code",
   "execution_count": 40,
   "metadata": {
    "collapsed": false
   },
   "outputs": [
    {
     "data": {
      "text/plain": [
       "'ab'"
      ]
     },
     "execution_count": 40,
     "metadata": {},
     "output_type": "execute_result"
    }
   ],
   "source": [
    "j[0]"
   ]
  },
  {
   "cell_type": "code",
   "execution_count": 41,
   "metadata": {
    "collapsed": false
   },
   "outputs": [
    {
     "data": {
      "text/plain": [
       "['cd', 'ef']"
      ]
     },
     "execution_count": 41,
     "metadata": {},
     "output_type": "execute_result"
    }
   ],
   "source": [
    "j[1:]"
   ]
  },
  {
   "cell_type": "code",
   "execution_count": 36,
   "metadata": {
    "collapsed": false
   },
   "outputs": [],
   "source": [
    "t.append(('ab cd ef','disease'))"
   ]
  },
  {
   "cell_type": "code",
   "execution_count": 37,
   "metadata": {
    "collapsed": false
   },
   "outputs": [
    {
     "data": {
      "text/plain": [
       "[(u'and', u'Idea_or_Concept'),\n",
       " (u'feel', u'Mental_Process'),\n",
       " (u'for', u'Qualitative_Concept'),\n",
       " (u'weak', u'Qualitative_Concept'),\n",
       " (u'have', u'Qualitative_Concept'),\n",
       " (u'excessively', u'Qualitative_Concept'),\n",
       " (u'pain', u'Sign_or_Symptom'),\n",
       " (u'dizzy', u'Sign_or_Symptom'),\n",
       " (u'pains', u'Sign_or_Symptom'),\n",
       " (u'Sometimes', u'Temporal_Concept'),\n",
       " (u'studying', u'Research_Activity'),\n",
       " (u'breathing', u'Physiologic_Function'),\n",
       " (u'rheumatic fever', u'Disease_or_Syndrome'),\n",
       " ('ab cd ef', 'disease')]"
      ]
     },
     "execution_count": 37,
     "metadata": {},
     "output_type": "execute_result"
    }
   ],
   "source": [
    "t"
   ]
  },
  {
   "cell_type": "code",
   "execution_count": 44,
   "metadata": {
    "collapsed": false
   },
   "outputs": [
    {
     "name": "stdout",
     "output_type": "stream",
     "text": [
      "ab B\n",
      "cd I\n",
      "ef I\n"
     ]
    }
   ],
   "source": [
    "for i,k in enumerate(j):\n",
    "    if i == 0:\n",
    "        print k,'B'\n",
    "    else:\n",
    "        print k,'I'"
   ]
  },
  {
   "cell_type": "code",
   "execution_count": 60,
   "metadata": {
    "collapsed": false
   },
   "outputs": [],
   "source": [
    "o = Ontotext()"
   ]
  },
  {
   "cell_type": "code",
   "execution_count": 61,
   "metadata": {
    "collapsed": false
   },
   "outputs": [
    {
     "data": {
      "text/plain": [
       "\"I am fealing pain in the stomac for three-weeks. Sometimes\\n    I feel dizzy, weak and can't breathing_properly. I can't have rheumatic fever studying excessively, It pains barely.\""
      ]
     },
     "execution_count": 61,
     "metadata": {},
     "output_type": "execute_result"
    }
   ],
   "source": [
    "text"
   ]
  },
  {
   "cell_type": "code",
   "execution_count": 62,
   "metadata": {
    "collapsed": true
   },
   "outputs": [],
   "source": [
    "v =  ontotext.tag(text)"
   ]
  },
  {
   "cell_type": "code",
   "execution_count": 63,
   "metadata": {
    "collapsed": false
   },
   "outputs": [
    {
     "data": {
      "text/plain": [
       "[(u'and', u'Idea_or_Concept'),\n",
       " (u'feel', u'Mental_Process'),\n",
       " (u'for', u'Qualitative_Concept'),\n",
       " (u'weak', u'Qualitative_Concept'),\n",
       " (u'have', u'Qualitative_Concept'),\n",
       " (u'excessively', u'Qualitative_Concept'),\n",
       " (u'pain', u'Sign_or_Symptom'),\n",
       " (u'dizzy', u'Sign_or_Symptom'),\n",
       " (u'pains', u'Sign_or_Symptom'),\n",
       " (u'Sometimes', u'Temporal_Concept'),\n",
       " (u'studying', u'Research_Activity'),\n",
       " (u'breathing', u'Physiologic_Function'),\n",
       " (u'rheumatic fever', u'Disease_or_Syndrome')]"
      ]
     },
     "execution_count": 63,
     "metadata": {},
     "output_type": "execute_result"
    }
   ],
   "source": [
    "v"
   ]
  },
  {
   "cell_type": "code",
   "execution_count": null,
   "metadata": {
    "collapsed": true
   },
   "outputs": [],
   "source": []
  },
  {
   "cell_type": "code",
   "execution_count": null,
   "metadata": {
    "collapsed": true
   },
   "outputs": [],
   "source": []
  }
 ],
 "metadata": {
  "kernelspec": {
   "display_name": "Python 2",
   "language": "python",
   "name": "python2"
  },
  "language_info": {
   "codemirror_mode": {
    "name": "ipython",
    "version": 2
   },
   "file_extension": ".py",
   "mimetype": "text/x-python",
   "name": "python",
   "nbconvert_exporter": "python",
   "pygments_lexer": "ipython2",
   "version": "2.7.11"
  }
 },
 "nbformat": 4,
 "nbformat_minor": 0
}
